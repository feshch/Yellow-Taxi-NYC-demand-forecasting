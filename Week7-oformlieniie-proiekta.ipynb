{
 "cells": [
  {
   "cell_type": "markdown",
   "metadata": {},
   "source": [
    "# Peer-graded Assignment: Оформление проекта"
   ]
  },
  {
   "cell_type": "markdown",
   "metadata": {},
   "source": [
    "### Библиотеки"
   ]
  },
  {
   "cell_type": "code",
   "execution_count": 1,
   "metadata": {},
   "outputs": [
    {
     "name": "stderr",
     "output_type": "stream",
     "text": [
      "/home/feshch/anaconda3/lib/python3.6/site-packages/IPython/html.py:14: ShimWarning: The `IPython.html` package has been deprecated since IPython 4.0. You should import from `notebook` instead. `IPython.html.widgets` has moved to `ipywidgets`.\n",
      "  \"`IPython.html.widgets` has moved to `ipywidgets`.\", ShimWarning)\n"
     ]
    }
   ],
   "source": [
    "import numpy as np\n",
    "#from glob import glob\n",
    "import datetime\n",
    "#from itertools import product\n",
    "#import holoviews as hv\n",
    "#import param\n",
    "\n",
    "import pandas as pd\n",
    "import matplotlib.pyplot as plt\n",
    "from mpl_toolkits.basemap import Basemap\n",
    "from matplotlib import colorbar\n",
    "from matplotlib import colors\n",
    "from ipywidgets import *\n",
    "from IPython.display import display\n",
    "from IPython.html.widgets import *"
   ]
  },
  {
   "cell_type": "markdown",
   "metadata": {},
   "source": [
    "### Данные прогноза"
   ]
  },
  {
   "cell_type": "code",
   "execution_count": 2,
   "metadata": {},
   "outputs": [
    {
     "data": {
      "text/html": [
       "<div>\n",
       "<style>\n",
       "    .dataframe thead tr:only-child th {\n",
       "        text-align: right;\n",
       "    }\n",
       "\n",
       "    .dataframe thead th {\n",
       "        text-align: left;\n",
       "    }\n",
       "\n",
       "    .dataframe tbody tr th {\n",
       "        vertical-align: top;\n",
       "    }\n",
       "</style>\n",
       "<table border=\"1\" class=\"dataframe\">\n",
       "  <thead>\n",
       "    <tr style=\"text-align: right;\">\n",
       "      <th></th>\n",
       "      <th>y</th>\n",
       "    </tr>\n",
       "    <tr>\n",
       "      <th>id</th>\n",
       "      <th></th>\n",
       "    </tr>\n",
       "  </thead>\n",
       "  <tbody>\n",
       "    <tr>\n",
       "      <th>1434_2016-05-31_23_1</th>\n",
       "      <td>1.429107</td>\n",
       "    </tr>\n",
       "    <tr>\n",
       "      <th>1434_2016-05-31_23_2</th>\n",
       "      <td>0.415906</td>\n",
       "    </tr>\n",
       "    <tr>\n",
       "      <th>1434_2016-05-31_23_3</th>\n",
       "      <td>1.749809</td>\n",
       "    </tr>\n",
       "    <tr>\n",
       "      <th>1434_2016-05-31_23_4</th>\n",
       "      <td>1.431356</td>\n",
       "    </tr>\n",
       "    <tr>\n",
       "      <th>1434_2016-05-31_23_5</th>\n",
       "      <td>0.495385</td>\n",
       "    </tr>\n",
       "  </tbody>\n",
       "</table>\n",
       "</div>"
      ],
      "text/plain": [
       "                             y\n",
       "id                            \n",
       "1434_2016-05-31_23_1  1.429107\n",
       "1434_2016-05-31_23_2  0.415906\n",
       "1434_2016-05-31_23_3  1.749809\n",
       "1434_2016-05-31_23_4  1.431356\n",
       "1434_2016-05-31_23_5  0.495385"
      ]
     },
     "execution_count": 2,
     "metadata": {},
     "output_type": "execute_result"
    }
   ],
   "source": [
    "input_data = pd.read_csv('my_submission_lasso.csv', index_col='id')\n",
    "input_data.head()"
   ]
  },
  {
   "cell_type": "markdown",
   "metadata": {},
   "source": [
    "### Номера регионов, где идёт прогнозирование"
   ]
  },
  {
   "cell_type": "code",
   "execution_count": 3,
   "metadata": {},
   "outputs": [
    {
     "data": {
      "text/plain": [
       "['1132', '1285', '1530', '1282', '1331']"
      ]
     },
     "execution_count": 3,
     "metadata": {},
     "output_type": "execute_result"
    }
   ],
   "source": [
    "kaggle_regions = list(pd.Series(input_data.index).apply(lambda x:x[:4]).value_counts().index)\n",
    "kaggle_regions[:5]"
   ]
  },
  {
   "cell_type": "markdown",
   "metadata": {},
   "source": [
    "### Реальные данные за 2016"
   ]
  },
  {
   "cell_type": "code",
   "execution_count": 4,
   "metadata": {},
   "outputs": [
    {
     "data": {
      "text/html": [
       "<div>\n",
       "<style>\n",
       "    .dataframe thead tr:only-child th {\n",
       "        text-align: right;\n",
       "    }\n",
       "\n",
       "    .dataframe thead th {\n",
       "        text-align: left;\n",
       "    }\n",
       "\n",
       "    .dataframe tbody tr th {\n",
       "        vertical-align: top;\n",
       "    }\n",
       "</style>\n",
       "<table border=\"1\" class=\"dataframe\">\n",
       "  <thead>\n",
       "    <tr style=\"text-align: right;\">\n",
       "      <th></th>\n",
       "      <th>1132</th>\n",
       "      <th>1285</th>\n",
       "      <th>1530</th>\n",
       "      <th>1282</th>\n",
       "      <th>1331</th>\n",
       "      <th>1130</th>\n",
       "      <th>1426</th>\n",
       "      <th>1234</th>\n",
       "      <th>1223</th>\n",
       "      <th>1075</th>\n",
       "      <th>...</th>\n",
       "      <th>1127</th>\n",
       "      <th>2118</th>\n",
       "      <th>1274</th>\n",
       "      <th>1231</th>\n",
       "      <th>1283</th>\n",
       "      <th>1281</th>\n",
       "      <th>1389</th>\n",
       "      <th>1382</th>\n",
       "      <th>1180</th>\n",
       "      <th>1128</th>\n",
       "    </tr>\n",
       "  </thead>\n",
       "  <tbody>\n",
       "    <tr>\n",
       "      <th>2016-06-30 19:00:00</th>\n",
       "      <td>63</td>\n",
       "      <td>313</td>\n",
       "      <td>2</td>\n",
       "      <td>1727</td>\n",
       "      <td>52</td>\n",
       "      <td>496</td>\n",
       "      <td>2</td>\n",
       "      <td>460</td>\n",
       "      <td>12</td>\n",
       "      <td>116</td>\n",
       "      <td>...</td>\n",
       "      <td>308</td>\n",
       "      <td>142</td>\n",
       "      <td>8</td>\n",
       "      <td>968</td>\n",
       "      <td>333</td>\n",
       "      <td>1203</td>\n",
       "      <td>8</td>\n",
       "      <td>48</td>\n",
       "      <td>909</td>\n",
       "      <td>401</td>\n",
       "    </tr>\n",
       "    <tr>\n",
       "      <th>2016-06-30 20:00:00</th>\n",
       "      <td>53</td>\n",
       "      <td>269</td>\n",
       "      <td>6</td>\n",
       "      <td>1457</td>\n",
       "      <td>72</td>\n",
       "      <td>560</td>\n",
       "      <td>2</td>\n",
       "      <td>396</td>\n",
       "      <td>21</td>\n",
       "      <td>104</td>\n",
       "      <td>...</td>\n",
       "      <td>368</td>\n",
       "      <td>209</td>\n",
       "      <td>9</td>\n",
       "      <td>924</td>\n",
       "      <td>282</td>\n",
       "      <td>995</td>\n",
       "      <td>16</td>\n",
       "      <td>44</td>\n",
       "      <td>851</td>\n",
       "      <td>390</td>\n",
       "    </tr>\n",
       "    <tr>\n",
       "      <th>2016-06-30 21:00:00</th>\n",
       "      <td>62</td>\n",
       "      <td>277</td>\n",
       "      <td>5</td>\n",
       "      <td>1527</td>\n",
       "      <td>58</td>\n",
       "      <td>672</td>\n",
       "      <td>11</td>\n",
       "      <td>417</td>\n",
       "      <td>22</td>\n",
       "      <td>151</td>\n",
       "      <td>...</td>\n",
       "      <td>422</td>\n",
       "      <td>213</td>\n",
       "      <td>7</td>\n",
       "      <td>1057</td>\n",
       "      <td>279</td>\n",
       "      <td>1123</td>\n",
       "      <td>18</td>\n",
       "      <td>41</td>\n",
       "      <td>860</td>\n",
       "      <td>460</td>\n",
       "    </tr>\n",
       "    <tr>\n",
       "      <th>2016-06-30 22:00:00</th>\n",
       "      <td>37</td>\n",
       "      <td>223</td>\n",
       "      <td>12</td>\n",
       "      <td>1206</td>\n",
       "      <td>54</td>\n",
       "      <td>578</td>\n",
       "      <td>16</td>\n",
       "      <td>439</td>\n",
       "      <td>42</td>\n",
       "      <td>106</td>\n",
       "      <td>...</td>\n",
       "      <td>476</td>\n",
       "      <td>206</td>\n",
       "      <td>20</td>\n",
       "      <td>903</td>\n",
       "      <td>217</td>\n",
       "      <td>1083</td>\n",
       "      <td>10</td>\n",
       "      <td>32</td>\n",
       "      <td>679</td>\n",
       "      <td>405</td>\n",
       "    </tr>\n",
       "    <tr>\n",
       "      <th>2016-06-30 23:00:00</th>\n",
       "      <td>13</td>\n",
       "      <td>213</td>\n",
       "      <td>8</td>\n",
       "      <td>925</td>\n",
       "      <td>38</td>\n",
       "      <td>631</td>\n",
       "      <td>17</td>\n",
       "      <td>269</td>\n",
       "      <td>31</td>\n",
       "      <td>85</td>\n",
       "      <td>...</td>\n",
       "      <td>428</td>\n",
       "      <td>173</td>\n",
       "      <td>14</td>\n",
       "      <td>899</td>\n",
       "      <td>167</td>\n",
       "      <td>893</td>\n",
       "      <td>17</td>\n",
       "      <td>26</td>\n",
       "      <td>717</td>\n",
       "      <td>483</td>\n",
       "    </tr>\n",
       "  </tbody>\n",
       "</table>\n",
       "<p>5 rows × 102 columns</p>\n",
       "</div>"
      ],
      "text/plain": [
       "                     1132  1285  1530  1282  1331  1130  1426  1234  1223  \\\n",
       "2016-06-30 19:00:00    63   313     2  1727    52   496     2   460    12   \n",
       "2016-06-30 20:00:00    53   269     6  1457    72   560     2   396    21   \n",
       "2016-06-30 21:00:00    62   277     5  1527    58   672    11   417    22   \n",
       "2016-06-30 22:00:00    37   223    12  1206    54   578    16   439    42   \n",
       "2016-06-30 23:00:00    13   213     8   925    38   631    17   269    31   \n",
       "\n",
       "                     1075  ...   1127  2118  1274  1231  1283  1281  1389  \\\n",
       "2016-06-30 19:00:00   116  ...    308   142     8   968   333  1203     8   \n",
       "2016-06-30 20:00:00   104  ...    368   209     9   924   282   995    16   \n",
       "2016-06-30 21:00:00   151  ...    422   213     7  1057   279  1123    18   \n",
       "2016-06-30 22:00:00   106  ...    476   206    20   903   217  1083    10   \n",
       "2016-06-30 23:00:00    85  ...    428   173    14   899   167   893    17   \n",
       "\n",
       "                     1382  1180  1128  \n",
       "2016-06-30 19:00:00    48   909   401  \n",
       "2016-06-30 20:00:00    44   851   390  \n",
       "2016-06-30 21:00:00    41   860   460  \n",
       "2016-06-30 22:00:00    32   679   405  \n",
       "2016-06-30 23:00:00    26   717   483  \n",
       "\n",
       "[5 rows x 102 columns]"
      ]
     },
     "execution_count": 4,
     "metadata": {},
     "output_type": "execute_result"
    }
   ],
   "source": [
    "data = pd.read_csv('data_2016.csv', index_col='Unnamed: 0')\n",
    "data.index = pd.to_datetime(data.index)\n",
    "data = data[[col for col in kaggle_regions]]\n",
    "data.tail()"
   ]
  },
  {
   "cell_type": "markdown",
   "metadata": {},
   "source": [
    "### Манипуляции с i (сроком прогноза), концами истории и номерами регионов"
   ]
  },
  {
   "cell_type": "code",
   "execution_count": 5,
   "metadata": {},
   "outputs": [
    {
     "data": {
      "text/html": [
       "<div>\n",
       "<style>\n",
       "    .dataframe thead tr:only-child th {\n",
       "        text-align: right;\n",
       "    }\n",
       "\n",
       "    .dataframe thead th {\n",
       "        text-align: left;\n",
       "    }\n",
       "\n",
       "    .dataframe tbody tr th {\n",
       "        vertical-align: top;\n",
       "    }\n",
       "</style>\n",
       "<table border=\"1\" class=\"dataframe\">\n",
       "  <thead>\n",
       "    <tr style=\"text-align: right;\">\n",
       "      <th></th>\n",
       "      <th>pred</th>\n",
       "      <th>reg</th>\n",
       "      <th>h_end</th>\n",
       "      <th>i</th>\n",
       "    </tr>\n",
       "  </thead>\n",
       "  <tbody>\n",
       "    <tr>\n",
       "      <th>2016-06-01 00:00:00</th>\n",
       "      <td>1.429107</td>\n",
       "      <td>1434</td>\n",
       "      <td>2016-05-31 23:00:00</td>\n",
       "      <td>1</td>\n",
       "    </tr>\n",
       "    <tr>\n",
       "      <th>2016-06-01 01:00:00</th>\n",
       "      <td>0.415906</td>\n",
       "      <td>1434</td>\n",
       "      <td>2016-05-31 23:00:00</td>\n",
       "      <td>2</td>\n",
       "    </tr>\n",
       "    <tr>\n",
       "      <th>2016-06-01 02:00:00</th>\n",
       "      <td>1.749809</td>\n",
       "      <td>1434</td>\n",
       "      <td>2016-05-31 23:00:00</td>\n",
       "      <td>3</td>\n",
       "    </tr>\n",
       "    <tr>\n",
       "      <th>2016-06-01 03:00:00</th>\n",
       "      <td>1.431356</td>\n",
       "      <td>1434</td>\n",
       "      <td>2016-05-31 23:00:00</td>\n",
       "      <td>4</td>\n",
       "    </tr>\n",
       "    <tr>\n",
       "      <th>2016-06-01 04:00:00</th>\n",
       "      <td>0.495385</td>\n",
       "      <td>1434</td>\n",
       "      <td>2016-05-31 23:00:00</td>\n",
       "      <td>5</td>\n",
       "    </tr>\n",
       "  </tbody>\n",
       "</table>\n",
       "</div>"
      ],
      "text/plain": [
       "                         pred   reg               h_end  i\n",
       "2016-06-01 00:00:00  1.429107  1434 2016-05-31 23:00:00  1\n",
       "2016-06-01 01:00:00  0.415906  1434 2016-05-31 23:00:00  2\n",
       "2016-06-01 02:00:00  1.749809  1434 2016-05-31 23:00:00  3\n",
       "2016-06-01 03:00:00  1.431356  1434 2016-05-31 23:00:00  4\n",
       "2016-06-01 04:00:00  0.495385  1434 2016-05-31 23:00:00  5"
      ]
     },
     "execution_count": 5,
     "metadata": {},
     "output_type": "execute_result"
    }
   ],
   "source": [
    "#Эта функция по индексу файла с предсказаниями выдаёт конец истории, i, и регион, для которых было выполнено предсказание\n",
    "def region_history_end_i(pred_index):\n",
    "    result = pred_index.split('_')\n",
    "    result = [result[0], result[1]+' '+result[2]+':0', result[3]]\n",
    "    return result\n",
    "\n",
    "#Тут это собирается в таблицу с данными предсказаний\n",
    "input_data = pd.concat([input_data,\\\n",
    "                         pd.DataFrame([region_history_end_i(pred_index) for pred_index in input_data.index],\\\n",
    "                                      index = input_data.index)], axis=1)\n",
    "input_data.columns = ['pred', 'reg', 'h_end', 'i']\n",
    "input_data.h_end = pd.to_datetime(input_data.h_end)\n",
    "input_data.index = input_data.h_end + input_data.i.apply(lambda x:datetime.timedelta(hours=int(x)))\n",
    "input_data.reg = input_data.reg.apply(int)\n",
    "input_data.i = input_data.i.apply(int)\n",
    "input_data.head()"
   ]
  },
  {
   "cell_type": "code",
   "execution_count": 6,
   "metadata": {},
   "outputs": [
    {
     "data": {
      "text/html": [
       "<div>\n",
       "<style>\n",
       "    .dataframe thead tr:only-child th {\n",
       "        text-align: right;\n",
       "    }\n",
       "\n",
       "    .dataframe thead th {\n",
       "        text-align: left;\n",
       "    }\n",
       "\n",
       "    .dataframe tbody tr th {\n",
       "        vertical-align: top;\n",
       "    }\n",
       "</style>\n",
       "<table border=\"1\" class=\"dataframe\">\n",
       "  <thead>\n",
       "    <tr style=\"text-align: right;\">\n",
       "      <th></th>\n",
       "      <th>pred</th>\n",
       "      <th>reg</th>\n",
       "      <th>h_end</th>\n",
       "      <th>i</th>\n",
       "      <th>trips</th>\n",
       "    </tr>\n",
       "  </thead>\n",
       "  <tbody>\n",
       "    <tr>\n",
       "      <th>2016-06-01 00:00:00</th>\n",
       "      <td>1.429107</td>\n",
       "      <td>1434</td>\n",
       "      <td>2016-05-31 23:00:00</td>\n",
       "      <td>1</td>\n",
       "      <td>1.0</td>\n",
       "    </tr>\n",
       "    <tr>\n",
       "      <th>2016-06-01 01:00:00</th>\n",
       "      <td>0.415906</td>\n",
       "      <td>1434</td>\n",
       "      <td>2016-05-31 23:00:00</td>\n",
       "      <td>2</td>\n",
       "      <td>2.0</td>\n",
       "    </tr>\n",
       "    <tr>\n",
       "      <th>2016-06-01 02:00:00</th>\n",
       "      <td>1.749809</td>\n",
       "      <td>1434</td>\n",
       "      <td>2016-05-31 23:00:00</td>\n",
       "      <td>3</td>\n",
       "      <td>0.0</td>\n",
       "    </tr>\n",
       "    <tr>\n",
       "      <th>2016-06-01 03:00:00</th>\n",
       "      <td>1.431356</td>\n",
       "      <td>1434</td>\n",
       "      <td>2016-05-31 23:00:00</td>\n",
       "      <td>4</td>\n",
       "      <td>0.0</td>\n",
       "    </tr>\n",
       "    <tr>\n",
       "      <th>2016-06-01 04:00:00</th>\n",
       "      <td>0.495385</td>\n",
       "      <td>1434</td>\n",
       "      <td>2016-05-31 23:00:00</td>\n",
       "      <td>5</td>\n",
       "      <td>0.0</td>\n",
       "    </tr>\n",
       "  </tbody>\n",
       "</table>\n",
       "</div>"
      ],
      "text/plain": [
       "                         pred   reg               h_end  i  trips\n",
       "2016-06-01 00:00:00  1.429107  1434 2016-05-31 23:00:00  1    1.0\n",
       "2016-06-01 01:00:00  0.415906  1434 2016-05-31 23:00:00  2    2.0\n",
       "2016-06-01 02:00:00  1.749809  1434 2016-05-31 23:00:00  3    0.0\n",
       "2016-06-01 03:00:00  1.431356  1434 2016-05-31 23:00:00  4    0.0\n",
       "2016-06-01 04:00:00  0.495385  1434 2016-05-31 23:00:00  5    0.0"
      ]
     },
     "execution_count": 6,
     "metadata": {},
     "output_type": "execute_result"
    }
   ],
   "source": [
    "#Тут в таблицу добавляется реальное количество поездок\n",
    "input_data['trips'] = np.zeros(len(input_data))\n",
    "for reg in kaggle_regions:\n",
    "    reg_data = input_data[input_data.reg==int(reg)]\n",
    "    input_data.loc[input_data.reg==int(reg), 'trips'] = data[reg][input_data[input_data.reg==int(reg)].index]\n",
    "#input_data = input_data.drop('h_end', 1)\n",
    "input_data.head()"
   ]
  },
  {
   "cell_type": "markdown",
   "metadata": {},
   "source": [
    "# Временной ряд фактического и прогнозируемого спроса на такси в выбираемой области"
   ]
  },
  {
   "cell_type": "code",
   "execution_count": 7,
   "metadata": {},
   "outputs": [
    {
     "data": {
      "application/vnd.jupyter.widget-view+json": {
       "model_id": "b7f96410784b435cac94ee7b27efed51",
       "version_major": 2,
       "version_minor": 0
      },
      "text/plain": [
       "interactive(children=(Dropdown(description='region', options=(1075, 1076, 1077, 1125, 1126, 1127, 1128, 1129, …"
      ]
     },
     "metadata": {},
     "output_type": "display_data"
    },
    {
     "data": {
      "text/plain": [
       "<function __main__.plt_reg_i_timeseries(region, i)>"
      ]
     },
     "execution_count": 7,
     "metadata": {},
     "output_type": "execute_result"
    }
   ],
   "source": [
    "def plt_reg_i_timeseries(region, i):\n",
    "    plt.figure(figsize=(20, 10))\n",
    "    plt.plot(input_data[(input_data.reg==region) & (input_data.i==i)].trips, label='Real_data', color='blue')\n",
    "    plt.plot(input_data[(input_data.reg==region) & (input_data.i==i)].pred, label='Predictions', color='red')\n",
    "    plt.legend(loc=1,prop={'size':16})\n",
    "    plt.show()\n",
    "interact(plt_reg_i_timeseries, region=sorted([int(x) for x in kaggle_regions]), i=range(1, 7, 1))"
   ]
  },
  {
   "cell_type": "markdown",
   "metadata": {},
   "source": [
    "# Карты с визуализацией реального и прогнозируемого спроса на такси в выбираемый пользователем момент времени"
   ]
  },
  {
   "cell_type": "code",
   "execution_count": 8,
   "metadata": {},
   "outputs": [],
   "source": [
    "n_regions = pd.read_csv(\"regions.csv\", sep=\";\")\n",
    "lats = n_regions[[\"south\", \"north\"]].get_values().mean(axis=1)\n",
    "lons = n_regions[[\"west\", \"east\"]].get_values().mean(axis=1)\n",
    "h_end = input_data.h_end[0]\n",
    "i = input_data.i[0]\n",
    "rides_count_data_log = np.log(input_data[(input_data.h_end==h_end) & (input_data.i==i)].trips.get_values())\n",
    "regions_lat_static = lats[input_data[(input_data.h_end==h_end) & (input_data.i==i)].reg.get_values()-1]\n",
    "regions_lon_static = lons[input_data[(input_data.h_end==h_end) & (input_data.i==i)].reg.get_values()-1]"
   ]
  },
  {
   "cell_type": "code",
   "execution_count": 9,
   "metadata": {
    "scrolled": false
   },
   "outputs": [
    {
     "data": {
      "application/vnd.jupyter.widget-view+json": {
       "model_id": "11d3200f8bd344a8beb71cd3c07b5233",
       "version_major": 2,
       "version_minor": 0
      },
      "text/plain": [
       "interactive(children=(Dropdown(description='h_end', options=(Timestamp('2016-05-31 23:00:00'), Timestamp('2016…"
      ]
     },
     "metadata": {},
     "output_type": "display_data"
    },
    {
     "data": {
      "text/plain": [
       "<function __main__.plt_history_end_i_map(h_end, i)>"
      ]
     },
     "execution_count": 9,
     "metadata": {},
     "output_type": "execute_result"
    }
   ],
   "source": [
    "def plt_history_end_i_map(h_end, i):\n",
    "    rides_count_data_log = np.log(input_data[(input_data.h_end==h_end) & (input_data.i==i)].trips.get_values())\n",
    "    fig = plt.figure(figsize=(25,25))\n",
    "    static_map = Basemap(epsg=32016,\n",
    "                         llcrnrlon=-74.28,llcrnrlat=40.49,\n",
    "                         urcrnrlon=-73.67,urcrnrlat=40.92)\n",
    "    static_map.arcgisimage(service='Ocean_Basemap', xpixels=500)\n",
    "#static_map.drawcounties(linewidth=1.)\n",
    "    static_map.scatter(regions_lon_static, regions_lat_static, latlon=True,\n",
    "                       c=rides_count_data_log, s=400, \n",
    "                       cmap='YlOrRd', alpha=0.2, linewidths=0.)\n",
    "    plt.colorbar(shrink=0.5,label=r'$\\log({\\rm Real data})$')\n",
    "    plt.show()\n",
    "    rides_count_data_log = np.log(input_data[(input_data.h_end==h_end) & (input_data.i==i)].pred.get_values())\n",
    "    fig = plt.figure(figsize=(25,25))\n",
    "    static_map = Basemap(epsg=32016,\n",
    "                         llcrnrlon=-74.28,llcrnrlat=40.49,\n",
    "                         urcrnrlon=-73.67,urcrnrlat=40.92)\n",
    "    static_map.arcgisimage(service='Ocean_Basemap', xpixels=500)\n",
    "#static_map.drawcounties(linewidth=1.)\n",
    "    static_map.scatter(regions_lon_static, regions_lat_static, latlon=True,\n",
    "                       c=rides_count_data_log, s=400, \n",
    "                       cmap='YlOrRd', alpha=0.2, linewidths=0.)\n",
    "    plt.colorbar(shrink=0.5,label=r'$\\log({\\rm Predictions})$')\n",
    "    plt.show()\n",
    "interact(plt_history_end_i_map, h_end=sorted(input_data.h_end.value_counts().index), i=range(1, 7, 1))"
   ]
  },
  {
   "cell_type": "code",
   "execution_count": null,
   "metadata": {},
   "outputs": [],
   "source": []
  }
 ],
 "metadata": {
  "kernelspec": {
   "display_name": "Python 3",
   "language": "python",
   "name": "python3"
  },
  "language_info": {
   "codemirror_mode": {
    "name": "ipython",
    "version": 3
   },
   "file_extension": ".py",
   "mimetype": "text/x-python",
   "name": "python",
   "nbconvert_exporter": "python",
   "pygments_lexer": "ipython3",
   "version": "3.6.3"
  }
 },
 "nbformat": 4,
 "nbformat_minor": 2
}
